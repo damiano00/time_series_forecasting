{
 "cells": [
  {
   "metadata": {},
   "cell_type": "markdown",
   "source": [
    "### file name: clstm_ppo_model.ipynb\n",
    "### description: This notebook contains the implementation of the clstm_ppo_model described in the paper \"A novel Deep Reinforcement Learning based automated stock trading system using cascaded LSTM networks\" by Jie Zou et al.\n",
    "### author: Damiano Pasquini [pasquini.damiano00@gmail.com]\n",
    "### dataset citation: Dong, Z., Fan, X., & Peng, Z. (2024). FNSPID: A Comprehensive Financial News Dataset in Time Series. arXiv preprint arXiv:2402.06698.\n",
    "### license: Creative Commons Attribution-NonCommercial 4.0 International (CC BY-NC-4.0) license"
   ],
   "id": "a38e23493b0dd39f"
  },
  {
   "metadata": {
    "ExecuteTime": {
     "end_time": "2025-02-05T16:14:52.201684Z",
     "start_time": "2025-02-05T16:14:52.197667Z"
    }
   },
   "cell_type": "code",
   "source": [
    "# imports\n",
    "import os, os.path\n",
    "import pandas as pd\n",
    "\n",
    "dir_path = 'dataset/processed/data_for_lstm' # Path to the dataset containing n stocks data labelled also with sentiment\n",
    "if not os.path.exists(dir_path):\n",
    "    raise ValueError(\"The specified path does not exist.\")\n",
    "\n",
    "# Test csvs = 50\n",
    "names_50 = ['aal.csv', 'AAPL.csv', 'ABBV.csv', 'AMD.csv', 'amgn.csv', 'AMZN.csv', 'BABA.csv',\n",
    "            'bhp.csv', 'bidu.csv', 'biib.csv', 'BRK-B.csv', 'C.csv', 'cat.csv', 'cmcsa.csv', 'cmg.csv',\n",
    "            'cop.csv', 'COST.csv', 'crm.csv', 'CVX.csv', 'dal.csv', 'DIS.csv', 'ebay.csv', 'GE.csv',\n",
    "            'gild.csv', 'gld.csv', 'GOOG.csv', 'gsk.csv', 'INTC.csv', 'KO.csv', 'mrk.csv', 'MSFT.csv',\n",
    "            'mu.csv', 'nke.csv', 'nvda.csv', 'orcl.csv', 'pep.csv', 'pypl.csv', 'qcom.csv', 'QQQ.csv',\n",
    "            'SBUX.csv', 'T.csv', 'tgt.csv', 'tm.csv', 'TSLA.csv', 'TSM.csv', 'uso.csv', 'v.csv', 'WFC.csv',\n",
    "            'WMT.csv', 'xlf.csv']\n",
    "\n",
    "# Test csvs = 25\n",
    "names_25 = ['AAPL.csv', 'ABBV.csv', 'AMZN.csv', 'BABA.csv', 'BRK-B.csv', 'C.csv', 'COST.csv', 'CVX.csv', 'DIS.csv',\n",
    "            'GE.csv',\n",
    "            'INTC.csv', 'MSFT.csv', 'nvda.csv', 'pypl.csv', 'QQQ.csv', 'SBUX.csv', 'T.csv', 'TSLA.csv', 'WFC.csv',\n",
    "            'KO.csv', 'AMD.csv', 'TSM.csv', 'GOOG.csv', 'WMT.csv']\n",
    "\n",
    "# Test csvs = 5\n",
    "names_5 = ['KO.csv', 'AMD.csv', 'TSM.csv', 'GOOG.csv', 'WMT.csv']"
   ],
   "id": "4047f5d838ba85f9",
   "outputs": [],
   "execution_count": 16
  },
  {
   "metadata": {
    "ExecuteTime": {
     "end_time": "2025-02-05T16:13:59.584680Z",
     "start_time": "2025-02-05T16:13:59.581193Z"
    }
   },
   "cell_type": "code",
   "source": [
    "# CUDA availability\n",
    "import torch\n",
    "\n",
    "print(\"PyTorch Version:\", torch.__version__)\n",
    "print(\"CUDA Available:\", torch.cuda.is_available())\n",
    "if torch.cuda.is_available():\n",
    "    print(\"CUDA Version:\", torch.version.cuda)\n",
    "    print(\"GPU Name:\", torch.cuda.get_device_name(0))"
   ],
   "id": "1ebc2e6b352db2ef",
   "outputs": [
    {
     "name": "stdout",
     "output_type": "stream",
     "text": [
      "PyTorch Version: 2.6.0+cu126\n",
      "CUDA Available: True\n",
      "CUDA Version: 12.6\n",
      "GPU Name: NVIDIA GeForce RTX 3050 Laptop GPU\n"
     ]
    }
   ],
   "execution_count": 14
  },
  {
   "metadata": {
    "ExecuteTime": {
     "end_time": "2025-02-05T16:13:59.659721Z",
     "start_time": "2025-02-05T16:13:59.617103Z"
    }
   },
   "cell_type": "code",
   "source": [
    "def build_df(path, num_stocks):\n",
    "    \"\"\"\n",
    "    This function builds a dataframe from the csv files in the path directory, with the first num_stocks.\n",
    "    :param path: path to the directory containing the csv files\n",
    "    :param num_stocks: number of stocks to consider, must be 5, 25 or 50\n",
    "    :return: a dataframe containing the data from the csv files\n",
    "    \"\"\"\n",
    "    if not os.path.exists(path):\n",
    "        raise ValueError(\"The specified path does not exist.\")\n",
    "    if not os.path.isdir(path):\n",
    "        raise ValueError(\"The specified path is not a directory.\")\n",
    "    if not os.listdir(path):\n",
    "        raise ValueError(\"The specified directory is empty.\")\n",
    "    if not all([f.endswith('.csv') for f in os.listdir(path)]):\n",
    "        raise ValueError(\"The specified directory contains files that are not CSV files.\")\n",
    "    if not num_stocks == 5 or num_stocks == 25 or num_stocks == 50:\n",
    "        raise ValueError(\"The number of stocks must be 5, 25 or 50.\")\n",
    "    df = pd.DataFrame()\n",
    "    for i in range(num_stocks):\n",
    "        stock = pd.read_csv(path + '/' + names_50[i])\n",
    "        df = pd.concat([df, stock])\n",
    "    df.sort_values(by='Date', inplace=True)\n",
    "    return df\n",
    "\n",
    "data_frame = build_df(dir_path, 5)\n",
    "print(data_frame.shape)\n",
    "print(data_frame.head())"
   ],
   "id": "42bda000ebfeb12e",
   "outputs": [
    {
     "name": "stdout",
     "output_type": "stream",
     "text": [
      "(11864, 10)\n",
      "                        Date       Open       High        Low      Close  \\\n",
      "0  2010-02-09 00:00:00+00:00  58.240002  58.400002  56.700001  57.209999   \n",
      "1  2010-02-10 00:00:00+00:00  57.090000  57.290001  56.369999  56.840000   \n",
      "2  2010-02-11 00:00:00+00:00  56.560001  57.000000  56.230000  56.500000   \n",
      "3  2010-02-12 00:00:00+00:00  56.220001  56.720001  56.020000  56.480000   \n",
      "4  2010-02-16 00:00:00+00:00  56.619999  57.000000  56.200001  56.990002   \n",
      "\n",
      "   Adj close    Volume  Sentiment_gpt  News_flag  Scaled_sentiment  \n",
      "0  41.448292  18732200            3.0        1.0          0.500025  \n",
      "1  41.180233   6019100            3.0        0.0          0.500025  \n",
      "2  40.933891   8491100            3.0        0.0          0.500025  \n",
      "3  40.919403   8008700            3.0        0.0          0.500025  \n",
      "4  41.288906   5245900            3.0        0.0          0.500025  \n"
     ]
    }
   ],
   "execution_count": 15
  },
  {
   "metadata": {},
   "cell_type": "code",
   "outputs": [],
   "execution_count": null,
   "source": [
    "# LSTM PPO model\n",
    "\n"
   ],
   "id": "63b26cd2e3da4652"
  }
 ],
 "metadata": {
  "kernelspec": {
   "display_name": "Python 3",
   "language": "python",
   "name": "python3"
  },
  "language_info": {
   "codemirror_mode": {
    "name": "ipython",
    "version": 2
   },
   "file_extension": ".py",
   "mimetype": "text/x-python",
   "name": "python",
   "nbconvert_exporter": "python",
   "pygments_lexer": "ipython2",
   "version": "2.7.6"
  }
 },
 "nbformat": 4,
 "nbformat_minor": 5
}
