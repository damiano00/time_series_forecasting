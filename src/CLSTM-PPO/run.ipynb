{
 "cells": [
  {
   "cell_type": "code",
   "id": "47ef30a122da47c6",
   "metadata": {
    "ExecuteTime": {
     "end_time": "2025-03-10T18:52:09.187407Z",
     "start_time": "2025-03-10T18:52:09.182959Z"
    }
   },
   "source": [
    "import os\n",
    "import glob\n",
    "import warnings\n",
    "from datetime import datetime\n",
    "import numpy as np\n",
    "import pandas as pd\n",
    "from matplotlib import pyplot as plt\n",
    "from gym_env import StockTradingEnv\n",
    "from ppo_agent import PPOAgent\n",
    "from sklearn.preprocessing import MinMaxScaler\n",
    "import tensorflow as tf\n",
    "from pathlib import Path\n",
    "from sklearn.metrics import mean_absolute_error, mean_squared_error, r2_score\n",
    "\n",
    "scaler = MinMaxScaler()"
   ],
   "outputs": [],
   "execution_count": 16
  },
  {
   "metadata": {
    "ExecuteTime": {
     "end_time": "2025-03-10T18:52:09.208735Z",
     "start_time": "2025-03-10T18:52:09.202047Z"
    }
   },
   "cell_type": "code",
   "source": [
    "def compute_ema(series, span):\n",
    "    return series.ewm(span=span, adjust=False).mean()\n",
    "\n",
    "\n",
    "def compute_macd(df, price_col='adj_close', span_short=12, span_long=26):\n",
    "    ema_short = compute_ema(df[price_col], span=span_short)\n",
    "    ema_long = compute_ema(df[price_col], span=span_long)\n",
    "    macd = ema_short - ema_long\n",
    "    return macd\n",
    "\n",
    "\n",
    "def compute_rsi(df, price_col='adj_close', window=14):\n",
    "    delta = df[price_col].diff()\n",
    "    gain = delta.clip(lower=0)\n",
    "    loss = -delta.clip(upper=0)\n",
    "    avg_gain = gain.ewm(alpha=1 / window, adjust=False).mean()\n",
    "    avg_loss = loss.ewm(alpha=1 / window, adjust=False).mean()\n",
    "    rs = avg_gain / (avg_loss + 1e-8)\n",
    "    rsi = 100 - (100 / (1 + rs))\n",
    "    return rsi\n",
    "\n",
    "\n",
    "def compute_cci(df, window=20):\n",
    "    tp = (df['high'] + df['low'] + df['close']) / 3\n",
    "    sma = tp.rolling(window=window).mean()\n",
    "    mad = tp.rolling(window=window).apply(lambda x: np.mean(np.abs(x - np.mean(x))), raw=True)\n",
    "    cci = (tp - sma) / (0.015 * mad + 1e-8)\n",
    "    return cci\n",
    "\n",
    "\n",
    "def compute_adx(df, window=14):\n",
    "    high = df['high']\n",
    "    low = df['low']\n",
    "    close = df['close']\n",
    "    tr1 = high - low\n",
    "    tr2 = (high - close.shift()).abs()\n",
    "    tr3 = (low - close.shift()).abs()\n",
    "    tr = pd.concat([tr1, tr2, tr3], axis=1).max(axis=1)\n",
    "    atr = tr.rolling(window=window).mean()\n",
    "    up_move = high - high.shift()\n",
    "    down_move = low.shift() - low\n",
    "    plus_dm = np.where((up_move > down_move) & (up_move > 0), up_move, 0.0)\n",
    "    minus_dm = np.where((down_move > up_move) & (down_move > 0), down_move, 0.0)\n",
    "    plus_dm = pd.Series(plus_dm, index=df.index)\n",
    "    minus_dm = pd.Series(minus_dm, index=df.index)\n",
    "    plus_di = 100 * (plus_dm.rolling(window=window).sum() / (atr + 1e-8))\n",
    "    minus_di = 100 * (minus_dm.rolling(window=window).sum() / (atr + 1e-8))\n",
    "    dx = 100 * (abs(plus_di - minus_di) / (plus_di + minus_di + 1e-8))\n",
    "    adx = dx.rolling(window=window).mean()\n",
    "    return adx"
   ],
   "id": "51619783589697cb",
   "outputs": [],
   "execution_count": 17
  },
  {
   "metadata": {
    "ExecuteTime": {
     "end_time": "2025-03-10T18:52:09.256116Z",
     "start_time": "2025-03-10T18:52:09.251649Z"
    }
   },
   "cell_type": "code",
   "source": [
    "def load_data(data_folder, n_stocks=30, sentiment=True):\n",
    "    \"\"\"\n",
    "    Loads CSV files from the given folder, computes technical indicators (price, MACD, RSI, CCI, ADX)\n",
    "    for each stock, aligns them by common dates, and returns a dictionary of NumPy arrays:\n",
    "      - Each array has shape (num_timesteps, n_stocks)\n",
    "    \"\"\"\n",
    "    check_stock_dates(data_folder)\n",
    "    indicators = get_indicators(data_folder, sentiment=sentiment)\n",
    "    common_index = determine_index_range(indicators)\n",
    "    print(f\"Common date range: {common_index[0]} to {common_index[-1]}\")\n",
    "    combined = {}\n",
    "    for ind in indicators:\n",
    "        df_list = []\n",
    "        for key in sorted(indicators[ind].keys())[:n_stocks]:\n",
    "            s = indicators[ind][key].reindex(common_index).ffill().bfill()\n",
    "            df_list.append(s)\n",
    "        combined[ind] = pd.concat(df_list, axis=1)\n",
    "        combined[ind].columns = sorted(indicators[ind].keys())[:n_stocks]\n",
    "    if len(common_index) == 0:\n",
    "        raise ValueError(\"No common dates found among CSV files.\")\n",
    "    data_arrays = {ind: combined[ind].values for ind in combined}\n",
    "    return data_arrays"
   ],
   "id": "933c67a8b1398cfc",
   "outputs": [],
   "execution_count": 18
  },
  {
   "metadata": {
    "ExecuteTime": {
     "end_time": "2025-03-10T18:52:09.305429Z",
     "start_time": "2025-03-10T18:52:09.301314Z"
    }
   },
   "cell_type": "code",
   "source": [
    "def check_stock_dates(folder_path):\n",
    "    csv_files = glob.glob(os.path.join(folder_path, '*.csv'))\n",
    "    if not csv_files:\n",
    "        print(\"No CSV files found in the folder.\")\n",
    "        return\n",
    "    for csv_file in csv_files:\n",
    "        file_name = os.path.basename(csv_file)\n",
    "        try:\n",
    "            df = pd.read_csv(csv_file, parse_dates=['date'])\n",
    "            if 'date' not in df.columns:\n",
    "                raise ValueError(f\"{file_name} does not contain a 'date' column.\")\n",
    "            if df.empty:\n",
    "                raise ValueError(f\"{file_name} is empty.\")\n",
    "        except Exception as e:\n",
    "            print(f\"Error processing {file_name}: {e}\")"
   ],
   "id": "73b6b7c6f0915e09",
   "outputs": [],
   "execution_count": 19
  },
  {
   "metadata": {
    "ExecuteTime": {
     "end_time": "2025-03-10T18:52:09.356533Z",
     "start_time": "2025-03-10T18:52:09.351307Z"
    }
   },
   "cell_type": "code",
   "source": [
    "def get_indicators(data_folder, sentiment):\n",
    "    file_paths = sorted(glob.glob(os.path.join(data_folder, \"*.csv\")))\n",
    "    if not file_paths:\n",
    "        raise ValueError(f\"No CSV files found in folder {data_folder}\")\n",
    "    if sentiment:\n",
    "        indicators = {\n",
    "            'price': {},\n",
    "            'MACD': {},\n",
    "            'RSI': {},\n",
    "            'CCI': {},\n",
    "            'ADX': {},\n",
    "            'scaled_sentiment': {},\n",
    "        }\n",
    "    else:\n",
    "        indicators = {\n",
    "            'price': {},\n",
    "            'MACD': {},\n",
    "            'RSI': {},\n",
    "            'CCI': {},\n",
    "            'ADX': {},\n",
    "        }\n",
    "    for fp in file_paths:\n",
    "        df = pd.read_csv(fp, parse_dates=['date'])\n",
    "        df['date'] = pd.to_datetime(df['date']).dt.date\n",
    "        df.sort_values('date', inplace=True)\n",
    "        df.set_index('date', inplace=True)\n",
    "        df['adj_close'] = scaler.fit_transform(df['adj_close'].values.reshape(-1, 1)).flatten()\n",
    "        price = df['adj_close']\n",
    "        macd = compute_macd(df, price_col='adj_close')\n",
    "        rsi = compute_rsi(df, price_col='adj_close')\n",
    "        cci = compute_cci(df, window=20)\n",
    "        adx = compute_adx(df, window=14)\n",
    "        stock_key = os.path.splitext(os.path.basename(fp))[0]\n",
    "        if sentiment:\n",
    "            scaled_sentiment = np.mean(df['scaled_sentiment'].values)\n",
    "            scaled_sentiment = pd.Series([scaled_sentiment] * len(price), index=price.index)\n",
    "            indicators['scaled_sentiment'][stock_key] = scaled_sentiment\n",
    "        indicators['price'][stock_key] = price\n",
    "        indicators['MACD'][stock_key] = macd\n",
    "        indicators['RSI'][stock_key] = rsi\n",
    "        indicators['CCI'][stock_key] = cci\n",
    "        indicators['ADX'][stock_key] = adx\n",
    "    return indicators"
   ],
   "id": "2899d141ff1c448b",
   "outputs": [],
   "execution_count": 20
  },
  {
   "metadata": {
    "ExecuteTime": {
     "end_time": "2025-03-10T18:52:09.406403Z",
     "start_time": "2025-03-10T18:52:09.400613Z"
    }
   },
   "cell_type": "code",
   "source": [
    "def determine_index_range(indicators):\n",
    "    price_data = indicators['price']\n",
    "    stock_dates = {stock: (df.index.min(), df.index.max()) for stock, df in price_data.items()}\n",
    "    highest_start_stock, (highest_start, _) = max(stock_dates.items(), key=lambda item: item[1][0])\n",
    "    lowest_end_stock, (_, lowest_end) = min(stock_dates.items(), key=lambda item: item[1][1])\n",
    "    common_start = max(start for start, _ in stock_dates.values())\n",
    "    common_end = min(end for _, end in stock_dates.values())\n",
    "    while common_start > common_end:\n",
    "        price_data.pop(highest_start_stock, None)\n",
    "        price_data.pop(lowest_end_stock, None)\n",
    "        if not price_data:\n",
    "            raise ValueError(\"No stocks remaining after exclusion. Check date ranges.\")\n",
    "        stock_dates = {stock: (df.index.min(), df.index.max()) for stock, df in price_data.items()}\n",
    "        common_start = max(start for start, _ in stock_dates.values())\n",
    "        common_end = min(end for _, end in stock_dates.values())\n",
    "    print(f\"Remaining stocks: {len(price_data)}\")\n",
    "    print(f\"Common start date: {common_start}\")\n",
    "    print(f\"Common end date: {common_end}\")\n",
    "    return pd.date_range(start=common_start, end=common_end, freq='D')"
   ],
   "id": "8bb1636df98f3e3b",
   "outputs": [],
   "execution_count": 21
  },
  {
   "metadata": {
    "ExecuteTime": {
     "end_time": "2025-03-10T18:52:09.460127Z",
     "start_time": "2025-03-10T18:52:09.452977Z"
    }
   },
   "cell_type": "code",
   "source": [
    "def backtest_agent(agent, env, time_window):\n",
    "    # Retrieve historical prices from the dataset before forecasting starts\n",
    "    historical_prices = env.data['price'][:env.current_step]  # FIX: Correct historical price retrieval\n",
    "\n",
    "    state = env.reset()\n",
    "    state_seq = np.array([state] * time_window)\n",
    "    portfolio_values = []\n",
    "    true_prices = []  # Store true stock prices\n",
    "    predicted_prices = []  # Store predicted stock prices\n",
    "    done = False\n",
    "\n",
    "    # Track portfolio from start\n",
    "    initial_portfolio = env.balance + np.sum(env.prices * env.stock_owned)\n",
    "    portfolio_values.append(initial_portfolio)\n",
    "\n",
    "    while not done:\n",
    "        action, _, _ = agent.select_action(state_seq)\n",
    "        next_state, _, done, _ = env.step(action)\n",
    "\n",
    "        current_portfolio = env.balance + np.sum(env.prices * env.stock_owned)\n",
    "        portfolio_values.append(current_portfolio)\n",
    "\n",
    "        # Store true prices AFTER executing the action\n",
    "        true_prices.append(env.prices.copy())\n",
    "\n",
    "        # FIX: Scale predicted prices properly\n",
    "        predicted_prices.append(env.prices * (1 + 0.05 * action))  # Smaller action scaling\n",
    "\n",
    "        # Update state sequence\n",
    "        state_seq = np.vstack([state_seq[1:], next_state])\n",
    "\n",
    "    return (\n",
    "        portfolio_values,\n",
    "        np.array(historical_prices),  # FIX: Return correct historical prices\n",
    "        np.array(true_prices),\n",
    "        np.array(predicted_prices),\n",
    "    )"
   ],
   "id": "ca600963c0b31b60",
   "outputs": [],
   "execution_count": 22
  },
  {
   "metadata": {
    "ExecuteTime": {
     "end_time": "2025-03-10T18:52:09.523415Z",
     "start_time": "2025-03-10T18:52:09.517960Z"
    }
   },
   "cell_type": "code",
   "source": [
    "def compute_performance_metrics(portfolio_values):\n",
    "    portfolio_values = np.array(portfolio_values)\n",
    "    initial_value = portfolio_values[0]\n",
    "    final_value = portfolio_values[-1]\n",
    "    cumulative_return = (final_value - initial_value) / initial_value\n",
    "    max_earning_rate = np.max((portfolio_values - initial_value) / initial_value)\n",
    "    daily_returns = np.diff(portfolio_values) / portfolio_values[:-1]\n",
    "    sharpe_ratio = (np.mean(daily_returns) / (np.std(daily_returns) + 1e-8)) * np.sqrt(252)\n",
    "    return cumulative_return, max_earning_rate, sharpe_ratio"
   ],
   "id": "b1a269a5c34a7197",
   "outputs": [],
   "execution_count": 23
  },
  {
   "metadata": {
    "ExecuteTime": {
     "end_time": "2025-03-10T18:52:09.574641Z",
     "start_time": "2025-03-10T18:52:09.571535Z"
    }
   },
   "cell_type": "code",
   "source": [
    "# Suppress TensorFlow and Python warnings\n",
    "os.environ['TF_CPP_MIN_LOG_LEVEL'] = '3'\n",
    "warnings.filterwarnings(\"ignore\")\n",
    "tf.get_logger().setLevel('ERROR')"
   ],
   "id": "6ae86c993f388ab",
   "outputs": [],
   "execution_count": 24
  },
  {
   "metadata": {
    "ExecuteTime": {
     "end_time": "2025-03-10T18:52:09.624090Z",
     "start_time": "2025-03-10T18:52:09.620557Z"
    }
   },
   "cell_type": "code",
   "source": [
    "# Current date for directory naming\n",
    "curr_date = datetime.now().strftime(\"%Y%m%d%H%M\")"
   ],
   "id": "8c752512cabb937c",
   "outputs": [],
   "execution_count": 25
  },
  {
   "metadata": {
    "ExecuteTime": {
     "end_time": "2025-03-10T18:52:09.681587Z",
     "start_time": "2025-03-10T18:52:09.678217Z"
    }
   },
   "cell_type": "code",
   "source": [
    "# Hyperparameters (Optimized for Higher Cumulative Return)\n",
    "TIME_WINDOW = 60  # Increased to capture longer trends\n",
    "SENTIMENT = \"sentiment\"  # \"sentiment\" or \"no_sentiment\"\n",
    "STATE_DIM = 1 + 30 * 7 if SENTIMENT == \"sentiment\" else 1 + 30 * 6\n",
    "FEATURE_DIM = 256  # Increased to allow better feature representation\n",
    "N_STOCKS = 30\n",
    "TOTAL_TIMESTEPS = 100000  # Increased training duration for better convergence\n",
    "UPDATE_TIMESTEP = 64  # More frequent updates to stabilize learning\n",
    "LR = 5e-4  # Increased slightly for faster learning\n",
    "DATA_FOLDER = \"datasets/data_50\"\n",
    "INITIAL_BALANCE = 1e6\n",
    "MAX_SHARES = 2000  # Increased to allow larger positions\n",
    "REWARD_SCALING = 5e-3  # Adjusted for better reward signal balance\n",
    "TURBULENCE_THRESHOLD = 150  # Increased to allow more trading in volatile markets\n",
    "\n",
    "# Verify data folder exists\n",
    "if not os.path.exists(DATA_FOLDER):\n",
    "    raise FileNotFoundError(f\"Data folder {DATA_FOLDER} does not exist.\")"
   ],
   "id": "784029391e06fdd",
   "outputs": [],
   "execution_count": 26
  },
  {
   "metadata": {
    "ExecuteTime": {
     "end_time": "2025-03-10T21:50:19.065486Z",
     "start_time": "2025-03-10T21:50:19.061589Z"
    }
   },
   "cell_type": "code",
   "source": [
    "# Create directories for results\n",
    "results_dir = f'results/{SENTIMENT}_{N_STOCKS}_{curr_date}'\n",
    "plots_path = os.path.join(results_dir, 'plots')\n",
    "saved_models_path = os.path.join(results_dir, 'saved_models')\n",
    "evaluations_path = os.path.join(results_dir, 'evaluations')\n",
    "os.makedirs(plots_path, exist_ok=True)\n",
    "os.makedirs(saved_models_path, exist_ok=True)\n",
    "os.makedirs(evaluations_path, exist_ok=True)"
   ],
   "id": "e993f29c2c718ab8",
   "outputs": [],
   "execution_count": 83
  },
  {
   "metadata": {
    "ExecuteTime": {
     "end_time": "2025-03-10T18:52:09.788913Z",
     "start_time": "2025-03-10T18:52:09.784037Z"
    }
   },
   "cell_type": "code",
   "source": [
    "# Save configuration\n",
    "config_path = os.path.join(results_dir, 'config.txt')\n",
    "with open(config_path, 'w') as f:\n",
    "    f.write(f'Time window: {TIME_WINDOW}\\n'\n",
    "            f'Sentiment: {SENTIMENT}\\n'\n",
    "            f'State dimension: {STATE_DIM}\\n'\n",
    "            f'Feature dimension: {FEATURE_DIM}\\n'\n",
    "            f'Number of stocks: {N_STOCKS}\\n'\n",
    "            f'Total timesteps: {TOTAL_TIMESTEPS}\\n'\n",
    "            f'Update timestep: {UPDATE_TIMESTEP}\\n'\n",
    "            f'Learning rate: {LR}\\n'\n",
    "            f'Initial balance: {INITIAL_BALANCE}\\n'\n",
    "            f'Max shares: {MAX_SHARES}\\n'\n",
    "            f'Reward scaling: {REWARD_SCALING}\\n'\n",
    "            f'Turbulence threshold: {TURBULENCE_THRESHOLD}\\n')\n",
    "\n",
    "# Display configuration\n",
    "print(f'----- Training with {N_STOCKS} stocks and sentiment: {SENTIMENT} -----')\n",
    "with open(config_path, 'r') as f:\n",
    "    print(f.read())"
   ],
   "id": "cd518075aab220ec",
   "outputs": [
    {
     "name": "stdout",
     "output_type": "stream",
     "text": [
      "----- Training with 48 stocks and sentiment: sentiment -----\n",
      "Time window: 60\n",
      "Sentiment: sentiment\n",
      "State dimension: 337\n",
      "Feature dimension: 256\n",
      "Number of stocks: 48\n",
      "Total timesteps: 100000\n",
      "Update timestep: 64\n",
      "Learning rate: 0.0005\n",
      "Initial balance: 1000000.0\n",
      "Max shares: 2000\n",
      "Reward scaling: 0.005\n",
      "Turbulence threshold: 150\n",
      "\n"
     ]
    }
   ],
   "execution_count": 28
  },
  {
   "metadata": {
    "ExecuteTime": {
     "end_time": "2025-03-10T21:35:22.264020Z",
     "start_time": "2025-03-10T21:35:19.407296Z"
    }
   },
   "cell_type": "code",
   "source": [
    "# Load data and create environments\n",
    "data = load_data(data_folder=DATA_FOLDER, n_stocks=N_STOCKS, sentiment=(SENTIMENT == \"sentiment\"))\n",
    "total_steps = data['price'].shape[0]\n",
    "split_index = int(total_steps * 0.8)  # 80% training, 20% testing\n",
    "\n",
    "train_data = {k: v[:split_index] for k, v in data.items()}\n",
    "test_data = {k: v[split_index:] for k, v in data.items()}\n",
    "\n",
    "train_env = StockTradingEnv(\n",
    "    data=train_data,\n",
    "    initial_balance=INITIAL_BALANCE,\n",
    "    max_shares=MAX_SHARES,\n",
    "    reward_scaling=REWARD_SCALING,\n",
    "    turbulence_threshold=TURBULENCE_THRESHOLD,\n",
    "    state_dim=STATE_DIM,\n",
    "    n_stocks=N_STOCKS,\n",
    "    sentiment=(SENTIMENT == \"sentiment\"),\n",
    "    scaler=scaler\n",
    ")\n",
    "test_env = StockTradingEnv(\n",
    "    data=test_data,\n",
    "    initial_balance=INITIAL_BALANCE,\n",
    "    max_shares=MAX_SHARES,\n",
    "    reward_scaling=REWARD_SCALING,\n",
    "    turbulence_threshold=TURBULENCE_THRESHOLD,\n",
    "    state_dim=STATE_DIM,\n",
    "    n_stocks=N_STOCKS,\n",
    "    sentiment=(SENTIMENT == \"sentiment\"),\n",
    "    scaler=scaler\n",
    ")\n",
    "\n",
    "# Define model file paths\n",
    "lstm_pre_path = Path(saved_models_path) / 'lstm_pre.keras'\n",
    "actor_path = Path(saved_models_path) / 'lstm_actor.keras'\n",
    "critic_path = Path(saved_models_path) / 'lstm_critic.keras'\n",
    "\n",
    "# Initialize agent\n",
    "agent = PPOAgent(\n",
    "    time_window=TIME_WINDOW,\n",
    "    state_dim=STATE_DIM,\n",
    "    feature_dim=FEATURE_DIM,\n",
    "    n_stocks=N_STOCKS,\n",
    "    lr=LR\n",
    ")"
   ],
   "id": "6cd744f9fed4d24d",
   "outputs": [
    {
     "name": "stdout",
     "output_type": "stream",
     "text": [
      "Remaining stocks: 48\n",
      "Common start date: 2022-11-22\n",
      "Common end date: 2023-12-15\n",
      "Common date range: 2022-11-22 00:00:00 to 2023-12-15 00:00:00\n"
     ]
    }
   ],
   "execution_count": 74
  },
  {
   "metadata": {
    "ExecuteTime": {
     "end_time": "2025-03-10T19:40:21.632239Z",
     "start_time": "2025-03-10T18:52:12.453522Z"
    }
   },
   "cell_type": "code",
   "source": [
    "# Check if model files exist\n",
    "if lstm_pre_path.exists() and actor_path.exists() and critic_path.exists():\n",
    "    # Load existing models\n",
    "    print('----- Loading existing models for evaluation -----')\n",
    "    agent.lstm_pre = tf.keras.models.load_model(lstm_pre_path)\n",
    "    agent.actor = tf.keras.models.load_model(actor_path)\n",
    "    agent.critic = tf.keras.models.load_model(critic_path)\n",
    "else:\n",
    "    # Train models\n",
    "    train_start_time = datetime.now()\n",
    "    print(f'----- Started training at: {train_start_time.strftime(\"%Y-%m-%d %H:%M:%S\")} -----')\n",
    "    agent.train(train_env, total_timesteps=TOTAL_TIMESTEPS, update_timestep=UPDATE_TIMESTEP)\n",
    "    train_end_time = datetime.now()\n",
    "    duration = (train_end_time - train_start_time).total_seconds() / 60\n",
    "    print(\n",
    "        f'----- Finished training at: {train_end_time.strftime(\"%Y-%m-%d %H:%M:%S\")}, duration: {duration:.2f} minutes -----')\n",
    "\n",
    "    # Save models\n",
    "    agent.lstm_pre.save(lstm_pre_path)\n",
    "    agent.actor.save(actor_path)\n",
    "    agent.critic.save(critic_path)"
   ],
   "id": "ba6b5a1cd7455e9a",
   "outputs": [
    {
     "name": "stdout",
     "output_type": "stream",
     "text": [
      "----- Started training at: 2025-03-10 19:52:12 -----\n"
     ]
    },
    {
     "name": "stderr",
     "output_type": "stream",
     "text": [
      "2025-03-10 19:52:12.575449: I external/local_xla/xla/stream_executor/cuda/cuda_dnn.cc:454] Loaded cuDNN version 8904\n",
      "2025-03-10 19:52:15.835356: I external/local_xla/xla/service/service.cc:168] XLA service 0x55e499d65390 initialized for platform CUDA (this does not guarantee that XLA will be used). Devices:\n",
      "2025-03-10 19:52:15.835398: I external/local_xla/xla/service/service.cc:176]   StreamExecutor device (0): NVIDIA GeForce RTX 3050 Laptop GPU, Compute Capability 8.6\n",
      "2025-03-10 19:52:15.849910: I tensorflow/compiler/mlir/tensorflow/utils/dump_mlir_util.cc:269] disabling MLIR crash reproducer, set env var `MLIR_CRASH_REPRODUCER_DIRECTORY` to enable.\n",
      "WARNING: All log messages before absl::InitializeLog() is called are written to STDERR\n",
      "I0000 00:00:1741632735.956882   46840 device_compiler.h:186] Compiled cluster using XLA!  This line is logged at most once for the lifetime of the process.\n"
     ]
    },
    {
     "name": "stdout",
     "output_type": "stream",
     "text": [
      "----- Finished training at: 2025-03-10 20:40:21, duration: 48.15 minutes -----\n"
     ]
    }
   ],
   "execution_count": 30
  },
  {
   "metadata": {
    "ExecuteTime": {
     "end_time": "2025-03-10T20:51:48.834047Z",
     "start_time": "2025-03-10T20:51:46.813901Z"
    }
   },
   "cell_type": "code",
   "source": [
    "# Evaluate the agent\n",
    "print('----- Evaluating agent -----')\n",
    "portfolio_values, historical_prices, true_prices, predicted_prices = backtest_agent(agent, test_env, TIME_WINDOW)\n",
    "# Save evaluation results also with the stock names\n",
    "np.save(os.path.join(evaluations_path, 'true_prices.npy'), true_prices)\n",
    "np.save(os.path.join(evaluations_path, 'predicted_prices.npy'), predicted_prices)\n",
    "cr, mer, sr = compute_performance_metrics(portfolio_values)\n",
    "\n",
    "# Save portfolio values to CSV\n",
    "portfolio_values_path = os.path.join(evaluations_path, 'portfolio_values.csv')\n",
    "pd.Series(portfolio_values).to_csv(portfolio_values_path)\n",
    "\n",
    "# Save performance metrics to a text file\n",
    "performance_metrics_path = os.path.join(evaluations_path, f'performance_metrics_{SENTIMENT}.txt')\n",
    "with open(performance_metrics_path, \"w\") as f:\n",
    "    f.write(f\"Cumulative Return: {cr * 100:.2f}%\\n\")\n",
    "    f.write(f\"Maximum Earning Rate: {mer * 100:.2f}%\\n\")\n",
    "    f.write(f\"Sharpe Ratio: {sr:.2f}\\n\")\n"
   ],
   "id": "a91bdb752918285c",
   "outputs": [
    {
     "name": "stdout",
     "output_type": "stream",
     "text": [
      "----- Evaluating agent -----\n",
      "Cumulative Return: 8.94%\n",
      "Maximum Earning Rate: 9.10%\n",
      "Sharpe Ratio: 3.17\n"
     ]
    },
    {
     "data": {
      "text/plain": [
       "<Figure size 1000x600 with 1 Axes>"
      ],
      "image/png": "[encoded data removed]"
     },
     "metadata": {},
     "output_type": "display_data"
    },
    {
     "data": {
      "text/plain": [
       "<Figure size 1000x600 with 1 Axes>"
      ],
      "image/png": "[encoded data removed]"
     },
     "metadata": {},
     "output_type": "display_data"
    }
   ],
   "execution_count": 36
  },
  {
   "metadata": {
    "collapsed": true
   },
   "cell_type": "code",
   "source": [
    "# Load stored price data\n",
    "true_prices = np.load(os.path.join(evaluations_path, 'true_prices.npy'))\n",
    "predicted_prices = np.load(os.path.join(evaluations_path, 'predicted_prices.npy'))\n",
    "\n",
    "stock_metrics_path = os.path.join(evaluations_path, 'stock_metrics.txt')\n",
    "os.makedirs(stock_metrics_path, exist_ok=True)\n",
    "with open(os.path.join(evaluations_path, 'stock_metrics.csv'), 'w') as f:\n",
    "    f.write(\"Stock,MAE,MSE,R²\\n\")\n",
    "    for stock_idx in range(N_STOCKS):\n",
    "        mae = mean_absolute_error(true_prices[:, stock_idx], predicted_prices[:, stock_idx])\n",
    "        mse = mean_squared_error(true_prices[:, stock_idx], predicted_prices[:, stock_idx])\n",
    "        r2 = r2_score(true_prices[:, stock_idx], predicted_prices[:, stock_idx])\n",
    "        f.write(f\"{stock_idx},{mae},{mse},{r2}\\n\")\n",
    "\n",
    "# Calculate average metrics\n",
    "mae_avg = np.mean([mean_absolute_error(true_prices[:, i], predicted_prices[:, i]) for i in range(N_STOCKS)])\n",
    "mse_avg = np.mean([mean_squared_error(true_prices[:, i], predicted_prices[:, i]) for i in range(N_STOCKS)])\n",
    "r2_avg = np.mean([r2_score(true_prices[:, i], predicted_prices[:, i]) for i in range(N_STOCKS)])\n",
    "\n",
    "# Save average metrics to a text file\n",
    "stock_metrics_path = os.path.join(evaluations_path, 'stock_metrics.txt')\n",
    "with open(stock_metrics_path, \"w\") as f:\n",
    "    f.write(f\"Average MAE: {mae_avg}\\n\")\n",
    "    f.write(f\"Average MSE: {mse_avg}\\n\")\n",
    "    f.write(f\"Average R²: {r2_avg}\\n\")"
   ],
   "id": "initial_id",
   "outputs": [],
   "execution_count": null
  }
 ],
 "metadata": {
  "kernelspec": {
   "display_name": "Python 3",
   "language": "python",
   "name": "python3"
  },
  "language_info": {
   "codemirror_mode": {
    "name": "ipython",
    "version": 2
   },
   "file_extension": ".py",
   "mimetype": "text/x-python",
   "name": "python",
   "nbconvert_exporter": "python",
   "pygments_lexer": "ipython2",
   "version": "2.7.6"
  }
 },
 "nbformat": 4,
 "nbformat_minor": 5
}
